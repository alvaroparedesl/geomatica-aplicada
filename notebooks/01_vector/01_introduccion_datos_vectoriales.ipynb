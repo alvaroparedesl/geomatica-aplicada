{
 "cells": [
  {
   "cell_type": "markdown",
   "id": "fbc74f28",
   "metadata": {},
   "source": [
    "# Introducción a Datos Vectoriales\n",
    "\n",
    "En este notebook aprenderemos los conceptos básicos de geometrías vectoriales usando la biblioteca Shapely.\n",
    "\n",
    "**Objetivos:**\n",
    "* Crear geometrías básicas (puntos, líneas y polígonos)\n",
    "* Visualizar geometrías\n",
    "* Acceder a atributos geométricos\n",
    "* Trabajar con geometrías complejas (multipuntos, multilíneas, multipolígonos)\n",
    "* Crear polígonos con huecos\n",
    "\n",
    "## Configuración inicial"
   ]
  },
  {
   "cell_type": "code",
   "execution_count": null,
   "id": "10cc7c24",
   "metadata": {},
   "outputs": [],
   "source": [
    "# Importamos las bibliotecas necesarias\n",
    "from IPython.display import display\n",
    "from shapely.geometry import (\n",
    "    LineString,\n",
    "    MultiLineString,\n",
    "    MultiPoint,\n",
    "    MultiPolygon,\n",
    "    Point,\n",
    "    Polygon,\n",
    ")\n",
    "import networkx as nx\n",
    "import matplotlib.pyplot as plt"
   ]
  },
  {
   "cell_type": "markdown",
   "id": "638e8fa5",
   "metadata": {},
   "source": [
    "## 1. Geometrías Básicas\n",
    "\n",
    "Shapely nos permite crear tres tipos básicos de geometrías:\n",
    "* Puntos (Point)\n",
    "* Líneas (LineString)\n",
    "* Polígonos (Polygon)"
   ]
  },
  {
   "cell_type": "code",
   "execution_count": null,
   "id": "50cedab9",
   "metadata": {},
   "outputs": [],
   "source": [
    "# Creamos un punto\n",
    "punto = Point(0, 0)\n",
    "print(\"Punto:\", punto)\n",
    "print(\"Coordenadas:\", list(punto.coords))\n",
    "\n",
    "# Creamos una línea\n",
    "linea = LineString([(0, 0), (1, 1), (2, 0)])\n",
    "print(\"\\nLínea:\", linea)\n",
    "print(\"Coordenadas:\", list(linea.coords))\n",
    "\n",
    "# Creamos un polígono\n",
    "poligono = Polygon([(0, 0), (1, 0), (1, 1), (0, 1), (0, 0)])\n",
    "print(\"\\nPolígono:\", poligono)\n",
    "print(\"Coordenadas:\", list(poligono.exterior.coords))"
   ]
  },
  {
   "cell_type": "markdown",
   "id": "6642b9d9",
   "metadata": {},
   "source": [
    "## 2. Visualización de Geometrías"
   ]
  },
  {
   "cell_type": "code",
   "execution_count": null,
   "id": "db2fab89",
   "metadata": {},
   "outputs": [],
   "source": [
    "# Visualizamos cada geometría\n",
    "display(punto)\n",
    "display(linea)\n",
    "display(poligono)"
   ]
  },
  {
   "cell_type": "markdown",
   "id": "d2bc86db",
   "metadata": {},
   "source": [
    "## 3. Atributos Geométricos\n",
    "\n",
    "Cada tipo de geometría tiene sus propios atributos:"
   ]
  },
  {
   "cell_type": "code",
   "execution_count": null,
   "id": "03feda7e",
   "metadata": {},
   "outputs": [],
   "source": [
    "# @title Atributos del punto\n",
    "print(\"Punto:\")\n",
    "print(f\"Coordenadas: {list(punto.coords)}\")\n",
    "print(f\"X: {punto.x}\")\n",
    "print(f\"Y: {punto.y}\")"
   ]
  },
  {
   "cell_type": "code",
   "execution_count": null,
   "id": "57b5009e",
   "metadata": {},
   "outputs": [],
   "source": [
    "# @title Atributos de la línea\n",
    "print(\"\\nLínea:\")\n",
    "print(f\"Longitud: {linea.length}\")\n",
    "print(f\"Puntos extremos: {linea.bounds}\")\n",
    "print(f\"Centroide: {linea.centroid}\")"
   ]
  },
  {
   "cell_type": "code",
   "execution_count": null,
   "id": "a5b9eade",
   "metadata": {},
   "outputs": [],
   "source": [
    "# @title Atributos del polígono\n",
    "print(\"\\nPolígono:\")\n",
    "print(f\"Área: {poligono.area}\")\n",
    "print(f\"Perímetro: {poligono.length}\")\n",
    "print(f\"Centroide: {poligono.centroid}\")\n",
    "print(f\"Límites: {poligono.bounds}\")"
   ]
  },
  {
   "cell_type": "markdown",
   "id": "036b799b",
   "metadata": {},
   "source": [
    "## 4. Ejemplo Práctico: Área de un Polígono\n",
    "\n",
    "Vamos a crear un polígono con las coordenadas proporcionadas y calcular su área."
   ]
  },
  {
   "cell_type": "code",
   "execution_count": null,
   "id": "442b25a8",
   "metadata": {},
   "outputs": [],
   "source": [
    "# Coordenadas del polígono\n",
    "coordenadas = [(3, 5), (5, 3), (6, 9), (5, 7), (3, 6), (3, 5)]\n",
    "\n",
    "# Creamos el polígono\n",
    "poligono_ejemplo = Polygon(coordenadas)\n",
    "\n",
    "# Calculamos el área\n",
    "area = poligono_ejemplo.area\n",
    "print(f\"Área del polígono: {area:.2f} unidades cuadradas\")\n",
    "\n",
    "# Visualizamos el polígono\n",
    "display(poligono_ejemplo)"
   ]
  },
  {
   "cell_type": "markdown",
   "id": "f26262b8",
   "metadata": {},
   "source": [
    "## 5. Geometrías Complejas\n",
    "\n",
    "Shapely también nos permite crear geometrías complejas que contienen múltiples elementos."
   ]
  },
  {
   "cell_type": "code",
   "execution_count": null,
   "id": "568567bf",
   "metadata": {},
   "outputs": [],
   "source": [
    "# Creamos un multipunto\n",
    "multipunto = MultiPoint([(0, 0), (1, 1), (2, 0)])\n",
    "print(\"Multipunto:\", multipunto)\n",
    "\n",
    "# Creamos una multilínea\n",
    "multilinea = MultiLineString([[(0, 0), (1, 1)], [(2, 0), (3, 1)]])\n",
    "print(\"\\nMultilínea:\", multilinea)\n",
    "\n",
    "# Creamos un multipolígono\n",
    "multipoligono = MultiPolygon(\n",
    "    [\n",
    "        Polygon([(0, 0), (1, 0), (1, 1), (0, 1), (0, 0)]),\n",
    "        Polygon([(2, 0), (3, 0), (3, 1), (2, 1), (2, 0)]),\n",
    "    ]\n",
    ")\n",
    "print(\"\\nMultipolígono:\", multipoligono)"
   ]
  },
  {
   "cell_type": "code",
   "execution_count": null,
   "id": "731fffae",
   "metadata": {},
   "outputs": [],
   "source": [
    "# Visualizamos las geometrías complejas\n",
    "display(multipunto)\n",
    "display(multilinea)\n",
    "display(multipoligono)"
   ]
  },
  {
   "cell_type": "markdown",
   "id": "1cb51a39",
   "metadata": {},
   "source": [
    "## 6. Polígonos con Huecos\n",
    "\n",
    "Un polígono puede tener huecos (islas) en su interior."
   ]
  },
  {
   "cell_type": "code",
   "execution_count": null,
   "id": "819099f1",
   "metadata": {},
   "outputs": [],
   "source": [
    "# Creamos un polígono con un hueco\n",
    "poligono_exterior = [(0, 0), (4, 0), (4, 4), (0, 4), (0, 0)]\n",
    "hueco = [(1, 1), (3, 1), (3, 3), (1, 3), (1, 1)]\n",
    "poligono_con_hueco = Polygon(poligono_exterior, [hueco])\n",
    "\n",
    "# Calculamos el área (el hueco se resta automáticamente)\n",
    "area_total_pre = Polygon(poligono_exterior).area\n",
    "area_total = poligono_con_hueco.area\n",
    "print(f\"Área del polígono sin hueco: {area_total_pre:.2f} unidades cuadradas\")\n",
    "print(f\"Área del polígono con hueco: {area_total:.2f} unidades cuadradas\")\n",
    "\n",
    "# Visualizamos el polígono con hueco\n",
    "display(poligono_con_hueco)"
   ]
  },
  {
   "cell_type": "markdown",
   "id": "ced9e71a",
   "metadata": {},
   "source": [
    "## 7. Tipología Arco-Nodo y Análisis Topológico\n",
    "\n",
    "La tipología arco-nodo es una forma especial de organizar datos espaciales que nos permite:\n",
    "* Mantener las relaciones entre elementos geográficos\n",
    "* Realizar análisis de conectividad\n",
    "* Encontrar rutas óptimas\n",
    "* Validar la calidad de los datos\n",
    "\n",
    "En este ejemplo veremos:\n",
    "1. La diferencia entre vértices y nodos\n",
    "2. Cómo crear una red topológica simple\n",
    "3. Análisis básicos que podemos hacer\n",
    "4. Comparación con geometría simple"
   ]
  },
  {
   "cell_type": "code",
   "execution_count": null,
   "id": "2e6e9a26",
   "metadata": {},
   "outputs": [],
   "source": [
    "# 7.1 Creación de elementos básicos\n",
    "# Primero, creamos algunos puntos que serán nodos (intersecciones importantes)\n",
    "nodos = {\n",
    "    1: Point(0, 0),    # Esquina inferior izquierda\n",
    "    2: Point(2, 2),    # Centro\n",
    "    3: Point(4, 0),    # Esquina inferior derecha\n",
    "    4: Point(3, 3),    # Esquina superior derecha\n",
    "    5: Point(1, 3)     # Esquina superior izquierda\n",
    "}\n",
    "\n",
    "# Creamos algunos vértices adicionales que NO son nodos (solo puntos de quiebre)\n",
    "vertices = {\n",
    "    'v1': Point(1, 1),    # Punto intermedio en línea curva\n",
    "    'v2': Point(3, 1),    # Punto intermedio en línea curva\n",
    "    'v3': Point(2, 3)     # Punto superior central\n",
    "}\n",
    "\n",
    "# Creamos arcos (líneas) entre los puntos\n",
    "# Algunos arcos son directos entre nodos, otros pasan por vértices\n",
    "arcos = {\n",
    "    'a1': LineString([nodos[1].coords[0], vertices['v1'].coords[0], nodos[2].coords[0]]),  # Línea curva\n",
    "    'a2': LineString([nodos[2].coords[0], vertices['v2'].coords[0], nodos[3].coords[0]]),  # Línea curva\n",
    "    'a3': LineString([nodos[1].coords[0], nodos[3].coords[0]]),                            # Línea directa\n",
    "    'a4': LineString([nodos[2].coords[0], nodos[4].coords[0]]),                            # Línea directa\n",
    "    'a5': LineString([nodos[5].coords[0], vertices['v3'].coords[0], nodos[4].coords[0]])   # Línea con vértice\n",
    "}\n",
    "\n",
    "# Creamos dos polígonos usando los arcos\n",
    "poligono1 = Polygon([nodos[1].coords[0], vertices['v1'].coords[0], nodos[2].coords[0], \n",
    "                    vertices['v2'].coords[0], nodos[3].coords[0], nodos[1].coords[0]])\n",
    "poligono2 = Polygon([nodos[2].coords[0], nodos[4].coords[0], vertices['v3'].coords[0], \n",
    "                    nodos[5].coords[0], nodos[2].coords[0]])"
   ]
  },
  {
   "cell_type": "markdown",
   "id": "7d2180af",
   "metadata": {},
   "source": [
    "### 7.2 Visualización de Elementos\n",
    "Veamos la diferencia entre nodos (puntos de intersección) y vértices (puntos de quiebre):"
   ]
  },
  {
   "cell_type": "code",
   "execution_count": null,
   "id": "579525c7",
   "metadata": {},
   "outputs": [],
   "source": [
    "# Creamos una figura más grande y clara\n",
    "plt.figure(figsize=(12, 8))\n",
    "\n",
    "# Dibujamos los arcos\n",
    "for arco in arcos.values():\n",
    "    xs, ys = zip(*list(arco.coords))\n",
    "    plt.plot(xs, ys, 'gray', linewidth=2)\n",
    "\n",
    "# Dibujamos los polígonos con transparencia\n",
    "plt.fill(*poligono1.exterior.xy, alpha=0.2, color='blue', label='Polígono 1')\n",
    "plt.fill(*poligono2.exterior.xy, alpha=0.2, color='green', label='Polígono 2')\n",
    "\n",
    "# Dibujamos los nodos (más grandes y azules)\n",
    "for nodo in nodos.values():\n",
    "    plt.plot(nodo.x, nodo.y, 'o', color='blue', markersize=12, label='Nodo' if nodo == list(nodos.values())[0] else \"\")\n",
    "\n",
    "# Dibujamos los vértices (más pequeños y rojos)\n",
    "for vertice in vertices.values():\n",
    "    plt.plot(vertice.x, vertice.y, 'o', color='red', markersize=8, label='Vértice' if vertice == list(vertices.values())[0] else \"\")\n",
    "\n",
    "# Agregamos etiquetas para los nodos\n",
    "for id_nodo, nodo in nodos.items():\n",
    "    plt.annotate(f'N{id_nodo}', (nodo.x, nodo.y), xytext=(5, 5), textcoords='offset points')\n",
    "\n",
    "# Agregamos etiquetas para los vértices\n",
    "for id_vertice, vertice in vertices.items():\n",
    "    plt.annotate(id_vertice, (vertice.x, vertice.y), xytext=(5, 5), textcoords='offset points')\n",
    "\n",
    "plt.title(\"Red Topológica: Nodos, Vértices y Polígonos\")\n",
    "plt.legend()\n",
    "plt.grid(True)\n",
    "plt.axis('equal')\n",
    "display(plt.gcf())\n",
    "plt.close()"
   ]
  },
  {
   "cell_type": "markdown",
   "id": "bca14738",
   "metadata": {},
   "source": [
    "### 7.3 Creación de la Red Topológica\n",
    "\n",
    "Ahora crearemos una red que solo considera los nodos y sus conexiones:"
   ]
  },
  {
   "cell_type": "code",
   "execution_count": null,
   "id": "581fe801",
   "metadata": {},
   "outputs": [],
   "source": [
    "# Creamos el grafo topológico\n",
    "G = nx.Graph()\n",
    "\n",
    "# Agregamos solo los nodos (no los vértices)\n",
    "for id_nodo, punto in nodos.items():\n",
    "    G.add_node(id_nodo, pos=punto.coords[0])\n",
    "\n",
    "# Agregamos los arcos con sus atributos\n",
    "for nombre_arco, linea in arcos.items():\n",
    "    # Encontramos qué nodos conecta este arco\n",
    "    nodo_inicio = None\n",
    "    nodo_fin = None\n",
    "    for id_nodo, punto in nodos.items():\n",
    "        if punto.coords[0] == linea.coords[0]:  # Primer punto del arco\n",
    "            nodo_inicio = id_nodo\n",
    "        if punto.coords[0] == linea.coords[-1]:  # Último punto del arco\n",
    "            nodo_fin = id_nodo\n",
    "    if nodo_inicio and nodo_fin:\n",
    "        # Agregamos el arco con su longitud y nombre\n",
    "        G.add_edge(nodo_inicio, nodo_fin, \n",
    "                  weight=linea.length,  # Longitud del arco\n",
    "                  name=nombre_arco)     # Nombre del arco"
   ]
  },
  {
   "cell_type": "markdown",
   "id": "919a4c45",
   "metadata": {},
   "source": [
    "### 7.4 Análisis Topológico Simple\n",
    "\n",
    "Veamos algunas preguntas que podemos responder fácilmente con la red topológica:"
   ]
  },
  {
   "cell_type": "code",
   "execution_count": null,
   "id": "4c0bf2df",
   "metadata": {},
   "outputs": [],
   "source": [
    "# 1. ¿Cuántas conexiones tiene cada nodo?\n",
    "print(\"Conexiones por nodo:\")\n",
    "for nodo in G.nodes():\n",
    "    num_conexiones = len(list(G.neighbors(nodo)))\n",
    "    print(f\"Nodo {nodo} tiene {num_conexiones} conexiones\")\n",
    "\n",
    "# 2. ¿Cuál es el camino más corto entre dos puntos?\n",
    "inicio, fin = 1, 4  # Del nodo 1 al nodo 4\n",
    "camino = nx.shortest_path(G, inicio, fin, weight='weight')\n",
    "print(f\"\\nCamino más corto del nodo {inicio} al {fin}: {' → '.join(map(str, camino))}\")\n",
    "\n",
    "# 3. ¿Hay ciclos en la red?\n",
    "ciclos = list(nx.cycle_basis(G))\n",
    "print(f\"\\nNúmero de ciclos encontrados: {len(ciclos)}\")\n",
    "if ciclos:\n",
    "    print(\"Ciclos encontrados:\")\n",
    "    for i, ciclo in enumerate(ciclos, 1):\n",
    "        print(f\"Ciclo {i}: {' → '.join(map(str, ciclo + [ciclo[0]]))}\")"
   ]
  },
  {
   "cell_type": "markdown",
   "id": "117d2134",
   "metadata": {},
   "source": [
    "### 7.5 Comparación: Topología vs Geometría\n",
    "\n",
    "Veamos la diferencia en complejidad para encontrar nodos conectados:"
   ]
  },
  {
   "cell_type": "code",
   "execution_count": null,
   "id": "14b1e3cb",
   "metadata": {},
   "outputs": [],
   "source": [
    "print(\"1. Usando solo geometría (Shapely):\")\n",
    "print(\"Para encontrar conexiones, debemos revisar cada línea y sus puntos extremos...\")\n",
    "for nombre1, punto1 in nodos.items():\n",
    "    conectados = []\n",
    "    for nombre2, punto2 in nodos.items():\n",
    "        if nombre1 != nombre2:\n",
    "            # Debemos revisar cada arco\n",
    "            for arco in arcos.values():\n",
    "                if (punto1.coords[0] == arco.coords[0] and punto2.coords[0] == arco.coords[-1]) or \\\n",
    "                   (punto1.coords[0] == arco.coords[-1] and punto2.coords[0] == arco.coords[0]):\n",
    "                    conectados.append(nombre2)\n",
    "    print(f\"Nodo {nombre1} está conectado con: {conectados}\")\n",
    "\n",
    "print(\"\\n2. Usando topología (NetworkX):\")\n",
    "print(\"Simplemente preguntamos por los vecinos de cada nodo...\")\n",
    "for nodo in G.nodes():\n",
    "    print(f\"Nodo {nodo} está conectado con: {list(G.neighbors(nodo))}\")"
   ]
  }
 ],
 "metadata": {
  "kernelspec": {
   "display_name": "Python 3",
   "language": "python",
   "name": "python3"
  }
 },
 "nbformat": 4,
 "nbformat_minor": 5
}
