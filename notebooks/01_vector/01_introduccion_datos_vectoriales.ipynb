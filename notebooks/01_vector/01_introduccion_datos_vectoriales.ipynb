{
 "cells": [
  {
   "cell_type": "markdown",
   "id": "e0c56c61",
   "metadata": {},
   "source": [
    "# Introducción a Datos Vectoriales\n",
    "\n",
    "En este notebook aprenderemos los conceptos básicos de geometrías vectoriales usando la biblioteca Shapely.\n",
    "\n",
    "**Objetivos:**\n",
    "* Crear geometrías básicas (puntos, líneas y polígonos)\n",
    "* Visualizar geometrías\n",
    "* Acceder a atributos geométricos\n",
    "* Trabajar con geometrías complejas (multipuntos, multilíneas, multipolígonos)\n",
    "* Crear polígonos con huecos\n",
    "\n",
    "## Configuración inicial"
   ]
  },
  {
   "cell_type": "code",
   "execution_count": null,
   "id": "7dfe93ee",
   "metadata": {},
   "outputs": [],
   "source": [
    "# Importamos las bibliotecas necesarias\n",
    "from IPython.display import display\n",
    "from shapely.geometry import (\n",
    "    LineString,\n",
    "    MultiLineString,\n",
    "    MultiPoint,\n",
    "    MultiPolygon,\n",
    "    Point,\n",
    "    Polygon,\n",
    ")"
   ]
  },
  {
   "cell_type": "markdown",
   "id": "72aff2b2",
   "metadata": {},
   "source": [
    "## 1. Geometrías Básicas\n",
    "\n",
    "Shapely nos permite crear tres tipos básicos de geometrías:\n",
    "* Puntos (Point)\n",
    "* Líneas (LineString)\n",
    "* Polígonos (Polygon)"
   ]
  },
  {
   "cell_type": "code",
   "execution_count": null,
   "id": "2ef752a4",
   "metadata": {},
   "outputs": [],
   "source": [
    "# Creamos un punto\n",
    "punto = Point(0, 0)\n",
    "print(\"Punto:\", punto)\n",
    "print(\"Coordenadas:\", list(punto.coords))\n",
    "\n",
    "# Creamos una línea\n",
    "linea = LineString([(0, 0), (1, 1), (2, 0)])\n",
    "print(\"\\nLínea:\", linea)\n",
    "print(\"Coordenadas:\", list(linea.coords))\n",
    "\n",
    "# Creamos un polígono\n",
    "poligono = Polygon([(0, 0), (1, 0), (1, 1), (0, 1), (0, 0)])\n",
    "print(\"\\nPolígono:\", poligono)\n",
    "print(\"Coordenadas:\", list(poligono.exterior.coords))"
   ]
  },
  {
   "cell_type": "markdown",
   "id": "e14e193c",
   "metadata": {},
   "source": [
    "## 2. Visualización de Geometrías"
   ]
  },
  {
   "cell_type": "code",
   "execution_count": null,
   "id": "8039d99c",
   "metadata": {},
   "outputs": [],
   "source": [
    "# Visualizamos cada geometría\n",
    "display(punto)\n",
    "display(linea)\n",
    "display(poligono)"
   ]
  },
  {
   "cell_type": "markdown",
   "id": "1da4fcaf",
   "metadata": {},
   "source": [
    "## 3. Atributos Geométricos\n",
    "\n",
    "Cada tipo de geometría tiene sus propios atributos:"
   ]
  },
  {
   "cell_type": "code",
   "execution_count": null,
   "id": "e7a03696",
   "metadata": {},
   "outputs": [],
   "source": [
    "# @title Atributos del punto\n",
    "print(\"Punto:\")\n",
    "print(f\"Coordenadas: {list(punto.coords)}\")\n",
    "print(f\"X: {punto.x}\")\n",
    "print(f\"Y: {punto.y}\")"
   ]
  },
  {
   "cell_type": "code",
   "execution_count": null,
   "id": "1cd598e9",
   "metadata": {},
   "outputs": [],
   "source": [
    "# @title Atributos de la línea\n",
    "print(\"\\nLínea:\")\n",
    "print(f\"Longitud: {linea.length}\")\n",
    "print(f\"Puntos extremos: {linea.bounds}\")\n",
    "print(f\"Centroide: {linea.centroid}\")"
   ]
  },
  {
   "cell_type": "code",
   "execution_count": null,
   "id": "532df6d2",
   "metadata": {},
   "outputs": [],
   "source": [
    "# @title Atributos del polígono\n",
    "print(\"\\nPolígono:\")\n",
    "print(f\"Área: {poligono.area}\")\n",
    "print(f\"Perímetro: {poligono.length}\")\n",
    "print(f\"Centroide: {poligono.centroid}\")\n",
    "print(f\"Límites: {poligono.bounds}\")"
   ]
  },
  {
   "cell_type": "markdown",
   "id": "9cf8a4af",
   "metadata": {},
   "source": [
    "## 4. Ejemplo Práctico: Área de un Polígono\n",
    "\n",
    "Vamos a crear un polígono con las coordenadas proporcionadas y calcular su área."
   ]
  },
  {
   "cell_type": "code",
   "execution_count": null,
   "id": "15e57d7e",
   "metadata": {},
   "outputs": [],
   "source": [
    "# Coordenadas del polígono\n",
    "coordenadas = [(3, 5), (5, 3), (6, 9), (5, 7), (3, 6), (3, 5)]\n",
    "\n",
    "# Creamos el polígono\n",
    "poligono_ejemplo = Polygon(coordenadas)\n",
    "\n",
    "# Calculamos el área\n",
    "area = poligono_ejemplo.area\n",
    "print(f\"Área del polígono: {area:.2f} unidades cuadradas\")\n",
    "\n",
    "# Visualizamos el polígono\n",
    "print(poligono_ejemplo)"
   ]
  },
  {
   "cell_type": "markdown",
   "id": "7b4e068e",
   "metadata": {},
   "source": [
    "## 5. Geometrías Complejas\n",
    "\n",
    "Shapely también nos permite crear geometrías complejas que contienen múltiples elementos."
   ]
  },
  {
   "cell_type": "code",
   "execution_count": null,
   "id": "5b194ba4",
   "metadata": {},
   "outputs": [],
   "source": [
    "# Creamos un multipunto\n",
    "multipunto = MultiPoint([(0, 0), (1, 1), (2, 0)])\n",
    "print(\"Multipunto:\", multipunto)\n",
    "\n",
    "# Creamos una multilínea\n",
    "multilinea = MultiLineString([[(0, 0), (1, 1)], [(2, 0), (3, 1)]])\n",
    "print(\"\\nMultilínea:\", multilinea)\n",
    "\n",
    "# Creamos un multipolígono\n",
    "multipoligono = MultiPolygon(\n",
    "    [\n",
    "        Polygon([(0, 0), (1, 0), (1, 1), (0, 1), (0, 0)]),\n",
    "        Polygon([(2, 0), (3, 0), (3, 1), (2, 1), (2, 0)]),\n",
    "    ]\n",
    ")\n",
    "print(\"\\nMultipolígono:\", multipoligono)"
   ]
  },
  {
   "cell_type": "code",
   "execution_count": null,
   "id": "98969e6e",
   "metadata": {},
   "outputs": [],
   "source": [
    "# Visualizamos las geometrías complejas\n",
    "display(multipunto)\n",
    "display(multilinea)\n",
    "display(multipoligono)"
   ]
  },
  {
   "cell_type": "markdown",
   "id": "70e5b438",
   "metadata": {},
   "source": [
    "## 6. Polígonos con Huecos\n",
    "\n",
    "Un polígono puede tener huecos (islas) en su interior."
   ]
  },
  {
   "cell_type": "code",
   "execution_count": null,
   "id": "585eb505",
   "metadata": {},
   "outputs": [],
   "source": [
    "# Creamos un polígono con un hueco\n",
    "poligono_exterior = [(0, 0), (4, 0), (4, 4), (0, 4), (0, 0)]\n",
    "hueco = [(1, 1), (3, 1), (3, 3), (1, 3), (1, 1)]\n",
    "poligono_con_hueco = Polygon(poligono_exterior, [hueco])\n",
    "\n",
    "# Calculamos el área (el hueco se resta automáticamente)\n",
    "area_total = poligono_con_hueco.area\n",
    "print(f\"Área del polígono con hueco: {area_total:.2f} unidades cuadradas\")\n",
    "\n",
    "# Visualizamos el polígono con hueco\n",
    "display(poligono_con_hueco)"
   ]
  }
 ],
 "metadata": {
  "kernelspec": {
   "display_name": "Python 3",
   "language": "python",
   "name": "python3"
  }
 },
 "nbformat": 4,
 "nbformat_minor": 5
}
