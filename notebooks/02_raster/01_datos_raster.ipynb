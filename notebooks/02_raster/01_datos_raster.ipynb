{
 "cells": [
  {
   "cell_type": "markdown",
   "id": "374e2b61",
   "metadata": {},
   "source": [
    "# Datos Raster: Conceptos Básicos\n",
    "\n",
    "En este cuaderno aprenderemos los conceptos fundamentales de los datos raster, su estructura y cómo manipularlos con Python."
   ]
  },
  {
   "cell_type": "markdown",
   "id": "6e05aadc",
   "metadata": {
    "lines_to_next_cell": 2
   },
   "source": [
    "## Configuración del entorno"
   ]
  },
  {
   "cell_type": "code",
   "execution_count": null,
   "id": "481d0adb",
   "metadata": {},
   "outputs": [],
   "source": [
    "# @title Instalación de paquetes necesarios\n",
    "# Necesitamos instalar las librerías necesarias para trabajar con datos raster.\n",
    "%pip install rioxarray xarray matplotlib numpy rasterio xarray-spatial geopandas"
   ]
  },
  {
   "cell_type": "code",
   "execution_count": null,
   "id": "457f3f49",
   "metadata": {
    "lines_to_next_cell": 2
   },
   "outputs": [],
   "source": [
    "# @title Importación de bibliotecas\n",
    "# Para trabajar con este notebook en Google Colab, debemos importar las librerías y clonar el repositorio completo para tener acceso a todos los datos y archivos necesarios:\n",
    "#\n",
    "import os\n",
    "\n",
    "import matplotlib.pyplot as plt\n",
    "import numpy as np\n",
    "import rioxarray as rxr\n",
    "import xarray as xr\n",
    "\n",
    "# Importamos xarray-spatial para cálculos de productos derivados de DEM\n",
    "import xrspatial\n",
    "\n",
    "# Configuración para visualización\n",
    "plt.rcParams[\"figure.figsize\"] = (12, 8)\n",
    "plt.style.use(\"ggplot\")\n",
    "\n",
    "# Clonamos el repositorio\n",
    "os.system(\"git clone https://github.com/alvaroparedesl/geomatica-aplicada.git\")\n",
    "%cd geomatica-aplicada"
   ]
  },
  {
   "cell_type": "markdown",
   "id": "76433d89",
   "metadata": {},
   "source": [
    "## 1. ¿Qué son los datos raster?\n",
    "\n",
    "Los datos raster representan el mundo como una matriz regular de celdas o píxeles. Cada celda contiene un valor que representa información sobre esa área geográfica.\n",
    "\n",
    "Ejemplos de datos raster incluyen:\n",
    "* Imágenes satelitales\n",
    "* Modelos digitales de elevación (DEM)\n",
    "* Mapas de temperatura\n",
    "* Mapas de precipitación\n",
    "* Mapas de uso y cobertura del suelo"
   ]
  },
  {
   "cell_type": "markdown",
   "id": "bcf8ad0f",
   "metadata": {},
   "source": [
    "![Representación de datos raster](https://raw.githubusercontent.com/carpentries-incubator/geospatial-python/gh-pages/fig/raster_concept.png)"
   ]
  },
  {
   "cell_type": "markdown",
   "id": "aa47a4fd",
   "metadata": {},
   "source": [
    "## 2. Estructura de los datos raster\n",
    "\n",
    "Los datos raster tienen los siguientes componentes principales:\n",
    "\n",
    "* **Celdas (píxeles)**: Unidades básicas que contienen valores\n",
    "* **Resolución espacial**: Tamaño de cada celda en unidades del mundo real\n",
    "* **Extensión**: Área geográfica cubierta por el raster\n",
    "* **Sistema de coordenadas**: Define cómo se proyecta el raster en la superficie terrestre\n",
    "* **Bandas**: Capas de información (por ejemplo, RGB en una imagen a color)\n",
    "* **Valores de datos**: Información almacenada en cada celda"
   ]
  },
  {
   "cell_type": "markdown",
   "id": "f1c8840b",
   "metadata": {},
   "source": [
    "## 3. Creación de un raster simple\n",
    "\n",
    "Vamos a crear un raster simple utilizando NumPy y rioxarray:"
   ]
  },
  {
   "cell_type": "code",
   "execution_count": null,
   "id": "33da07cf",
   "metadata": {},
   "outputs": [],
   "source": [
    "# Creamos una matriz de datos simple (elevación simulada)\n",
    "datos = np.zeros((100, 100))\n",
    "\n",
    "# Agregamos algunas características\n",
    "for i in range(100):\n",
    "    for j in range(100):\n",
    "        # Simulamos una colina\n",
    "        dist_centro = np.sqrt((i - 50) ** 2 + (j - 50) ** 2)\n",
    "        datos[i, j] = 100 - dist_centro * 1.5\n",
    "\n",
    "        # Agregamos algo de ruido\n",
    "        datos[i, j] += np.random.normal(0, 5)\n",
    "\n",
    "# Valores negativos los convertimos a 0 (nivel del mar)\n",
    "datos[datos < 0] = 0\n",
    "\n",
    "# Convertimos a un DataArray de xarray\n",
    "raster = xr.DataArray(\n",
    "    data=datos, dims=[\"y\", \"x\"], coords={\"y\": np.arange(100), \"x\": np.arange(100)}\n",
    ")\n",
    "\n",
    "# Visualizamos el raster\n",
    "plt.figure(figsize=(10, 8))\n",
    "im = raster.plot(cmap=\"terrain\", add_colorbar=False)\n",
    "plt.title(\"Modelo Digital de Elevación Simulado\")\n",
    "plt.xlabel(\"Coordenada X\")\n",
    "plt.ylabel(\"Coordenada Y\")\n",
    "plt.colorbar(im, label=\"Elevación (m)\")\n",
    "plt.show()"
   ]
  },
  {
   "cell_type": "markdown",
   "id": "61e3116c",
   "metadata": {},
   "source": [
    "## 4. Trabajando con datos reales: Cobertura de suelo de Chile\n",
    "\n",
    "Vamos a trabajar con un archivo de cobertura de suelo de Chile, que es un subconjunto del proyecto MapBiomas para el año 2018. MapBiomas es una iniciativa que mapea la cobertura y uso del suelo en América Latina utilizando imágenes satelitales.\n",
    "\n",
    "Al haber clonado el repositorio, tenemos acceso directo al archivo de cobertura de suelo:"
   ]
  },
  {
   "cell_type": "code",
   "execution_count": null,
   "id": "35af2c7a",
   "metadata": {},
   "outputs": [],
   "source": [
    "# Ruta al archivo de cobertura de suelo\n",
    "archivo_cobertura = \"data/raster/chile_coverage_2018s.tif\""
   ]
  },
  {
   "cell_type": "markdown",
   "id": "98dfd636",
   "metadata": {},
   "source": [
    "### Cargando y explorando los datos de cobertura de suelo"
   ]
  },
  {
   "cell_type": "code",
   "execution_count": null,
   "id": "91bc74e1",
   "metadata": {},
   "outputs": [],
   "source": [
    "# Cargamos el archivo de cobertura con rioxarray\n",
    "cobertura = rxr.open_rasterio(archivo_cobertura)\n",
    "\n",
    "# Información básica del raster\n",
    "print(\"Información del raster de cobertura de suelo:\")\n",
    "print(f\"Dimensiones: {cobertura.shape}\")\n",
    "print(f\"Sistema de coordenadas: {cobertura.rio.crs}\")\n",
    "print(f\"Resolución: {cobertura.rio.resolution()}\")\n",
    "print(f\"Bounds: {cobertura.rio.bounds()}\")\n",
    "\n",
    "# Visualizamos la cobertura\n",
    "plt.figure(figsize=(12, 8))\n",
    "im = cobertura.squeeze().plot(cmap=cmap_cobertura, add_colorbar=False)\n",
    "plt.title(\"Cobertura de Suelo de Chile (2018)\")\n",
    "plt.xlabel(\"Longitud\")\n",
    "plt.ylabel(\"Latitud\")\n",
    "plt.colorbar(im, label=\"Clase de cobertura\")\n",
    "plt.show()\n",
    "\n",
    "# Calculamos estadísticas básicas\n",
    "print(\"\\nEstadísticas de la cobertura de suelo:\")\n",
    "valores_unicos = np.unique(cobertura.values)\n",
    "print(f\"Clases de cobertura presentes: {valores_unicos}\")"
   ]
  },
  {
   "cell_type": "markdown",
   "id": "5031f06c",
   "metadata": {
    "lines_to_next_cell": 0
   },
   "source": [
    "¿Qué significan estos valores?\n",
    "\n",
    "| Clase Nivel 2                     | DV  |\n",
    "|-----------------------------------|-----|\n",
    "| 1.1 Bosque                       | 3   |\n",
    "| 2.1 Humedal                      | 11  |\n",
    "| 2.2 Pastizal                     | 12  |\n",
    "| 2.3 Matorral                     | 66  |\n",
    "| 2.4 Afloramiento rocoso          | 29  |\n",
    "| 3.1 Plantación Forestal          | 9   |\n",
    "| 3.2 Mosaico de agricultura y pastura | 21  |\n",
    "| 4.1 Infraestructura              | 24  |\n",
    "| 4.2 Arenas, Playas y Dunas       | 23  |\n",
    "| 4.3 Salar                        | 61  |\n",
    "| 4.4 Otra área sin vegetación     | 25  |\n",
    "| 5.1 Río, lago u océano           | 33  |\n",
    "| 5.2 Hielo y nieve                | 34  |\n",
    "| No observado                     | 27  |\n",
    "\n",
    "Información detallada la podemos encontrar en este [linl](https://chile.mapbiomas.org/codigos-de-la-leyenda/)"
   ]
  },
  {
   "cell_type": "markdown",
   "id": "eac5baf5",
   "metadata": {},
   "source": [
    "## 5. Operaciones básicas con rasters\n",
    "\n",
    "Ahora vamos a realizar algunas operaciones básicas con nuestro raster:"
   ]
  },
  {
   "cell_type": "code",
   "execution_count": null,
   "id": "85751a3a",
   "metadata": {},
   "outputs": [],
   "source": [
    "# 1. Recorte de un área de interés\n",
    "raster_recortado = cobertura.rio.clip_box(\n",
    "    minx=cobertura.x.min() + (cobertura.x.max() - cobertura.x.min()) * 0.25,\n",
    "    miny=cobertura.y.min() + (cobertura.y.max() - cobertura.y.min()) * 0.25,\n",
    "    maxx=cobertura.x.min() + (cobertura.x.max() - cobertura.x.min()) * 0.75,\n",
    "    maxy=cobertura.y.min() + (cobertura.y.max() - cobertura.y.min()) * 0.75,\n",
    ")\n",
    "\n",
    "# Visualizamos el recorte\n",
    "plt.figure(figsize=(10, 8))\n",
    "im = raster_recortado.squeeze().plot(add_colorbar=False)\n",
    "plt.title(\"Área de Interés Recortada\")\n",
    "plt.colorbar(im)\n",
    "plt.show()\n",
    "\n",
    "# 2. Cálculo de estadísticas básicas\n",
    "print(\"\\nEstadísticas del raster:\")\n",
    "print(f\"Valor mínimo: {cobertura.min().values}\")\n",
    "print(f\"Valor máximo: {cobertura.max().values}\")\n",
    "print(f\"Valor promedio: {cobertura.mean().values:.2f}\")\n",
    "print(f\"Desviación estándar: {cobertura.std().values:.2f}\")"
   ]
  },
  {
   "cell_type": "markdown",
   "id": "525cf03a",
   "metadata": {},
   "source": [
    "## 6. Análisis de terreno con xarray-spatial\n",
    "\n",
    "Si estamos trabajando con un DEM, podemos utilizar xarray-spatial para calcular productos derivados como pendiente, orientación y sombreado del relieve."
   ]
  },
  {
   "cell_type": "code",
   "execution_count": null,
   "id": "a21fa69e",
   "metadata": {},
   "outputs": [],
   "source": [
    "archivo_dem = \"data/raster/Copernicus_DSM_COG_10_S35_00_W072_00_DEM.tif.tif\"\n",
    "\n",
    "dem = rxr.open_rasterio(archivo_cobertura).squeeze()\n",
    "\n",
    "# Visualizamos el DEM\n",
    "plt.figure(figsize=(12, 8))\n",
    "im = dem.plot(cmap=\"terrain\", add_colorbar=False)\n",
    "plt.title(\"Modelo Digital de Elevación (Ejemplo)\")\n",
    "plt.colorbar(im, label=\"Elevación (m)\")\n",
    "plt.show()"
   ]
  },
  {
   "cell_type": "code",
   "execution_count": null,
   "id": "d76e7e2f",
   "metadata": {
    "lines_to_next_cell": 0
   },
   "outputs": [],
   "source": [
    "# Antes de calcular algunos derivados, vamos a reproyectar el DEM ¿por qué?\n",
    "dem = dem.rio.reproject(\"EPSG:32719\")"
   ]
  },
  {
   "cell_type": "code",
   "execution_count": null,
   "id": "f461aeb0",
   "metadata": {},
   "outputs": [],
   "source": [
    "# Calculamos la pendiente con xarray-spatial\n",
    "pendiente = xrspatial.slope(dem)\n",
    "\n",
    "# Visualizamos la pendiente\n",
    "plt.figure(figsize=(10, 8))\n",
    "im = pendiente.plot(cmap=\"YlOrRd\", add_colorbar=False)\n",
    "plt.title(\"Mapa de Pendientes\")\n",
    "plt.colorbar(im, label=\"Pendiente (grados)\")\n",
    "plt.show()"
   ]
  },
  {
   "cell_type": "code",
   "execution_count": null,
   "id": "9711bf40",
   "metadata": {},
   "outputs": [],
   "source": [
    "# Calculamos la orientación (aspecto)\n",
    "aspecto = xrspatial.aspect(dem)\n",
    "\n",
    "# Visualizamos la orientación\n",
    "plt.figure(figsize=(10, 8))\n",
    "im = aspecto.plot(cmap=\"twilight\", add_colorbar=False)\n",
    "plt.title(\"Mapa de Orientación\")\n",
    "plt.colorbar(im, label=\"Orientación (grados)\")\n",
    "plt.show()"
   ]
  },
  {
   "cell_type": "code",
   "execution_count": null,
   "id": "869d93f5",
   "metadata": {},
   "outputs": [],
   "source": [
    "# Calculamos el sombreado del relieve (hillshade)\n",
    "sombreado = xrspatial.hillshade(dem)\n",
    "\n",
    "# Visualizamos el sombreado\n",
    "plt.figure(figsize=(10, 8))\n",
    "im = sombreado.plot(cmap=\"gray\", add_colorbar=False)\n",
    "plt.title(\"Sombreado del Relieve\")\n",
    "plt.colorbar(im)\n",
    "plt.show()\n",
    "\n",
    "# Visualización combinada: DEM con sombreado\n",
    "fig, ax = plt.subplots(figsize=(12, 8))\n",
    "dem_data = cobertura.squeeze()\n",
    "dem_plot = dem_data.plot(cmap=\"terrain\", alpha=0.6, ax=ax, add_colorbar=False)\n",
    "sombreado.plot.imshow(cmap=\"gray\", alpha=0.4, ax=ax)\n",
    "plt.title(\"DEM con Sombreado del Relieve\")\n",
    "plt.colorbar(dem_plot, label=\"Elevación (m)\")\n",
    "plt.show()"
   ]
  },
  {
   "cell_type": "markdown",
   "id": "f0cb5d73",
   "metadata": {},
   "source": [
    "## 7. Guardando un raster\n",
    "\n",
    "Finalmente, vamos a guardar nuestro raster procesado:"
   ]
  },
  {
   "cell_type": "code",
   "execution_count": null,
   "id": "2f400c24",
   "metadata": {},
   "outputs": [],
   "source": [
    "# Creamos un directorio para guardar los resultados si no existe\n",
    "directorio_resultados = \"resultados/raster\"\n",
    "os.makedirs(directorio_resultados, exist_ok=True)\n",
    "\n",
    "# Guardamos el raster recortado como un nuevo archivo GeoTIFF\n",
    "raster_path = os.path.join(directorio_resultados, \"raster_recortado.tif\")\n",
    "\n",
    "# Asignamos el CRS del raster original\n",
    "raster_recortado.rio.write_crs(cobertura.rio.crs, inplace=True)\n",
    "\n",
    "# Guardamos el archivo\n",
    "raster_recortado.rio.to_raster(raster_path)\n",
    "\n",
    "print(f\"Raster guardado en: {raster_path}\")"
   ]
  },
  {
   "cell_type": "markdown",
   "id": "63e188b0",
   "metadata": {},
   "source": [
    "## 8. Resumen y conceptos clave\n",
    "\n",
    "En este cuaderno hemos aprendido:\n",
    "\n",
    "* Qué son los datos raster y sus componentes principales\n",
    "* Cómo crear y visualizar rasters con xarray y rioxarray\n",
    "* Cómo trabajar con datos reales de cobertura de suelo de Chile\n",
    "* Operaciones básicas: recorte y estadísticas\n",
    "* Análisis de terreno con xarray-spatial: pendiente, orientación y sombreado\n",
    "* Guardar rasters procesados\n",
    "\n",
    "En los próximos cuadernos, exploraremos la teledetección y cómo trabajar con imágenes satelitales."
   ]
  },
  {
   "cell_type": "markdown",
   "id": "eb5d3bb7",
   "metadata": {},
   "source": [
    "## Ejercicios\n",
    "\n",
    "1. Descarga otro conjunto de datos raster (por ejemplo, un DEM de otra región de Chile) y realiza un análisis básico.\n",
    "2. Si trabajas con datos de cobertura de suelo, calcula el porcentaje de cada clase de cobertura en el área de estudio.\n",
    "3. Utiliza xarray-spatial para calcular otros productos derivados del DEM, como la curvatura o la rugosidad del terreno.\n",
    "4. Crea un mapa que combine la cobertura de suelo con el sombreado del relieve para visualizar mejor la relación entre el uso del suelo y la topografía.\n",
    "4. Crea un mapa que combine la cobertura de suelo con el sombreado del relieve para visualizar mejor la relación entre el uso del suelo y la topografía."
   ]
  }
 ],
 "metadata": {
  "jupytext": {
   "cell_metadata_filter": "-all",
   "main_language": "python",
   "notebook_metadata_filter": "-all"
  }
 },
 "nbformat": 4,
 "nbformat_minor": 5
}
